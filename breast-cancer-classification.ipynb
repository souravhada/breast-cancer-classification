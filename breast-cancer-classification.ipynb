{
 "cells": [
  {
   "cell_type": "markdown",
   "id": "8c07cf26",
   "metadata": {
    "papermill": {
     "duration": 0.006958,
     "end_time": "2024-03-20T14:59:01.909512",
     "exception": false,
     "start_time": "2024-03-20T14:59:01.902554",
     "status": "completed"
    },
    "tags": []
   },
   "source": [
    "# Data Importing and Data Preprocessing"
   ]
  },
  {
   "cell_type": "code",
   "execution_count": 1,
   "id": "7dfcd10b",
   "metadata": {
    "_cell_guid": "b0d6e650-dd24-49a6-ab85-0731a01d3e58",
    "_uuid": "6c87a58b-e924-4c42-a573-397ef26e6cc3",
    "collapsed": false,
    "execution": {
     "iopub.execute_input": "2024-03-20T14:59:01.924858Z",
     "iopub.status.busy": "2024-03-20T14:59:01.924131Z",
     "iopub.status.idle": "2024-03-20T14:59:05.337851Z",
     "shell.execute_reply": "2024-03-20T14:59:05.336489Z"
    },
    "jupyter": {
     "outputs_hidden": false
    },
    "papermill": {
     "duration": 3.424841,
     "end_time": "2024-03-20T14:59:05.340913",
     "exception": false,
     "start_time": "2024-03-20T14:59:01.916072",
     "status": "completed"
    },
    "tags": []
   },
   "outputs": [],
   "source": [
    "# Importing neccessary libraries and packages\n",
    "\n",
    "import pandas as pd\n",
    "import matplotlib.pyplot as plt\n",
    "import seaborn as sns\n",
    "from sklearn.datasets import load_breast_cancer\n",
    "from sklearn.model_selection import train_test_split\n",
    "from sklearn.tree import DecisionTreeClassifier\n",
    "from sklearn.ensemble import RandomForestClassifier, AdaBoostClassifier\n",
    "from sklearn.metrics import accuracy_score, confusion_matrix"
   ]
  },
  {
   "cell_type": "code",
   "execution_count": 2,
   "id": "fcb0ec8d",
   "metadata": {
    "execution": {
     "iopub.execute_input": "2024-03-20T14:59:05.355652Z",
     "iopub.status.busy": "2024-03-20T14:59:05.355070Z",
     "iopub.status.idle": "2024-03-20T14:59:05.378253Z",
     "shell.execute_reply": "2024-03-20T14:59:05.376764Z"
    },
    "papermill": {
     "duration": 0.034115,
     "end_time": "2024-03-20T14:59:05.381240",
     "exception": false,
     "start_time": "2024-03-20T14:59:05.347125",
     "status": "completed"
    },
    "tags": []
   },
   "outputs": [],
   "source": [
    "# Loading the Wisconsin (Diagnostic) dataset\n",
    "\n",
    "data = load_breast_cancer()\n",
    "X = data.data\n",
    "y = data.target\n",
    "feature_names = data.feature_names"
   ]
  },
  {
   "cell_type": "code",
   "execution_count": 3,
   "id": "3326a696",
   "metadata": {
    "execution": {
     "iopub.execute_input": "2024-03-20T14:59:05.395793Z",
     "iopub.status.busy": "2024-03-20T14:59:05.395389Z",
     "iopub.status.idle": "2024-03-20T14:59:05.407263Z",
     "shell.execute_reply": "2024-03-20T14:59:05.406221Z"
    },
    "papermill": {
     "duration": 0.022351,
     "end_time": "2024-03-20T14:59:05.409909",
     "exception": false,
     "start_time": "2024-03-20T14:59:05.387558",
     "status": "completed"
    },
    "tags": []
   },
   "outputs": [],
   "source": [
    "# Creating a Pandas Dataframe\n",
    "\n",
    "df=pd.DataFrame(X, columns = feature_names)\n",
    "df['target'] = y"
   ]
  },
  {
   "cell_type": "code",
   "execution_count": 4,
   "id": "413def74",
   "metadata": {
    "execution": {
     "iopub.execute_input": "2024-03-20T14:59:05.424936Z",
     "iopub.status.busy": "2024-03-20T14:59:05.424175Z",
     "iopub.status.idle": "2024-03-20T14:59:05.431500Z",
     "shell.execute_reply": "2024-03-20T14:59:05.430467Z"
    },
    "papermill": {
     "duration": 0.017709,
     "end_time": "2024-03-20T14:59:05.434161",
     "exception": false,
     "start_time": "2024-03-20T14:59:05.416452",
     "status": "completed"
    },
    "tags": []
   },
   "outputs": [
    {
     "data": {
      "text/plain": [
       "(569, 31)"
      ]
     },
     "execution_count": 4,
     "metadata": {},
     "output_type": "execute_result"
    }
   ],
   "source": [
    "# Displaying the shape of the dataframe, i.e Number of rows and columns in the Dataframes\n",
    "\n",
    "df.shape"
   ]
  },
  {
   "cell_type": "code",
   "execution_count": 5,
   "id": "154190eb",
   "metadata": {
    "execution": {
     "iopub.execute_input": "2024-03-20T14:59:05.449615Z",
     "iopub.status.busy": "2024-03-20T14:59:05.448909Z",
     "iopub.status.idle": "2024-03-20T14:59:05.466001Z",
     "shell.execute_reply": "2024-03-20T14:59:05.464567Z"
    },
    "papermill": {
     "duration": 0.027605,
     "end_time": "2024-03-20T14:59:05.468572",
     "exception": false,
     "start_time": "2024-03-20T14:59:05.440967",
     "status": "completed"
    },
    "tags": []
   },
   "outputs": [
    {
     "data": {
      "text/plain": [
       "target\n",
       "1    357\n",
       "0    212\n",
       "Name: count, dtype: int64"
      ]
     },
     "execution_count": 5,
     "metadata": {},
     "output_type": "execute_result"
    }
   ],
   "source": [
    "# Checking the uniques values in the target column to ensure that there is no class imbalance\n",
    "\n",
    "df['target'].value_counts()"
   ]
  },
  {
   "cell_type": "code",
   "execution_count": 6,
   "id": "1d9ff51b",
   "metadata": {
    "execution": {
     "iopub.execute_input": "2024-03-20T14:59:05.484124Z",
     "iopub.status.busy": "2024-03-20T14:59:05.483473Z",
     "iopub.status.idle": "2024-03-20T14:59:05.494853Z",
     "shell.execute_reply": "2024-03-20T14:59:05.493584Z"
    },
    "papermill": {
     "duration": 0.021937,
     "end_time": "2024-03-20T14:59:05.497391",
     "exception": false,
     "start_time": "2024-03-20T14:59:05.475454",
     "status": "completed"
    },
    "tags": []
   },
   "outputs": [
    {
     "data": {
      "text/plain": [
       "mean radius                0\n",
       "mean texture               0\n",
       "mean perimeter             0\n",
       "mean area                  0\n",
       "mean smoothness            0\n",
       "mean compactness           0\n",
       "mean concavity             0\n",
       "mean concave points        0\n",
       "mean symmetry              0\n",
       "mean fractal dimension     0\n",
       "radius error               0\n",
       "texture error              0\n",
       "perimeter error            0\n",
       "area error                 0\n",
       "smoothness error           0\n",
       "compactness error          0\n",
       "concavity error            0\n",
       "concave points error       0\n",
       "symmetry error             0\n",
       "fractal dimension error    0\n",
       "worst radius               0\n",
       "worst texture              0\n",
       "worst perimeter            0\n",
       "worst area                 0\n",
       "worst smoothness           0\n",
       "worst compactness          0\n",
       "worst concavity            0\n",
       "worst concave points       0\n",
       "worst symmetry             0\n",
       "worst fractal dimension    0\n",
       "target                     0\n",
       "dtype: int64"
      ]
     },
     "execution_count": 6,
     "metadata": {},
     "output_type": "execute_result"
    }
   ],
   "source": [
    "# Cheking Null Values in each column\n",
    "\n",
    "df.isnull().sum()"
   ]
  },
  {
   "cell_type": "code",
   "execution_count": 7,
   "id": "527006e8",
   "metadata": {
    "execution": {
     "iopub.execute_input": "2024-03-20T14:59:05.512770Z",
     "iopub.status.busy": "2024-03-20T14:59:05.512377Z",
     "iopub.status.idle": "2024-03-20T14:59:05.520082Z",
     "shell.execute_reply": "2024-03-20T14:59:05.518945Z"
    },
    "papermill": {
     "duration": 0.018671,
     "end_time": "2024-03-20T14:59:05.522835",
     "exception": false,
     "start_time": "2024-03-20T14:59:05.504164",
     "status": "completed"
    },
    "tags": []
   },
   "outputs": [],
   "source": [
    "# train-test split\n",
    "\n",
    "X_train, X_test, y_train, y_test = train_test_split (X,y, test_size =0.2, random_state=42)"
   ]
  },
  {
   "cell_type": "markdown",
   "id": "69f0153a",
   "metadata": {
    "papermill": {
     "duration": 0.006533,
     "end_time": "2024-03-20T14:59:05.536192",
     "exception": false,
     "start_time": "2024-03-20T14:59:05.529659",
     "status": "completed"
    },
    "tags": []
   },
   "source": [
    "## Model Training and Evaluation"
   ]
  },
  {
   "cell_type": "code",
   "execution_count": 8,
   "id": "32780363",
   "metadata": {
    "execution": {
     "iopub.execute_input": "2024-03-20T14:59:05.552063Z",
     "iopub.status.busy": "2024-03-20T14:59:05.551671Z",
     "iopub.status.idle": "2024-03-20T14:59:05.557243Z",
     "shell.execute_reply": "2024-03-20T14:59:05.555764Z"
    },
    "papermill": {
     "duration": 0.016454,
     "end_time": "2024-03-20T14:59:05.559891",
     "exception": false,
     "start_time": "2024-03-20T14:59:05.543437",
     "status": "completed"
    },
    "tags": []
   },
   "outputs": [],
   "source": [
    "# Initialisng the Model\n",
    "\n",
    "decision_tree = DecisionTreeClassifier()\n",
    "random_forest = RandomForestClassifier(n_estimators=100)\n",
    "ada_boost = AdaBoostClassifier(n_estimators=100)"
   ]
  },
  {
   "cell_type": "code",
   "execution_count": 9,
   "id": "7267b5df",
   "metadata": {
    "execution": {
     "iopub.execute_input": "2024-03-20T14:59:05.575719Z",
     "iopub.status.busy": "2024-03-20T14:59:05.575302Z",
     "iopub.status.idle": "2024-03-20T14:59:06.301169Z",
     "shell.execute_reply": "2024-03-20T14:59:06.299987Z"
    },
    "papermill": {
     "duration": 0.736657,
     "end_time": "2024-03-20T14:59:06.303535",
     "exception": false,
     "start_time": "2024-03-20T14:59:05.566878",
     "status": "completed"
    },
    "tags": []
   },
   "outputs": [
    {
     "data": {
      "text/html": [
       "<style>#sk-container-id-1 {color: black;background-color: white;}#sk-container-id-1 pre{padding: 0;}#sk-container-id-1 div.sk-toggleable {background-color: white;}#sk-container-id-1 label.sk-toggleable__label {cursor: pointer;display: block;width: 100%;margin-bottom: 0;padding: 0.3em;box-sizing: border-box;text-align: center;}#sk-container-id-1 label.sk-toggleable__label-arrow:before {content: \"▸\";float: left;margin-right: 0.25em;color: #696969;}#sk-container-id-1 label.sk-toggleable__label-arrow:hover:before {color: black;}#sk-container-id-1 div.sk-estimator:hover label.sk-toggleable__label-arrow:before {color: black;}#sk-container-id-1 div.sk-toggleable__content {max-height: 0;max-width: 0;overflow: hidden;text-align: left;background-color: #f0f8ff;}#sk-container-id-1 div.sk-toggleable__content pre {margin: 0.2em;color: black;border-radius: 0.25em;background-color: #f0f8ff;}#sk-container-id-1 input.sk-toggleable__control:checked~div.sk-toggleable__content {max-height: 200px;max-width: 100%;overflow: auto;}#sk-container-id-1 input.sk-toggleable__control:checked~label.sk-toggleable__label-arrow:before {content: \"▾\";}#sk-container-id-1 div.sk-estimator input.sk-toggleable__control:checked~label.sk-toggleable__label {background-color: #d4ebff;}#sk-container-id-1 div.sk-label input.sk-toggleable__control:checked~label.sk-toggleable__label {background-color: #d4ebff;}#sk-container-id-1 input.sk-hidden--visually {border: 0;clip: rect(1px 1px 1px 1px);clip: rect(1px, 1px, 1px, 1px);height: 1px;margin: -1px;overflow: hidden;padding: 0;position: absolute;width: 1px;}#sk-container-id-1 div.sk-estimator {font-family: monospace;background-color: #f0f8ff;border: 1px dotted black;border-radius: 0.25em;box-sizing: border-box;margin-bottom: 0.5em;}#sk-container-id-1 div.sk-estimator:hover {background-color: #d4ebff;}#sk-container-id-1 div.sk-parallel-item::after {content: \"\";width: 100%;border-bottom: 1px solid gray;flex-grow: 1;}#sk-container-id-1 div.sk-label:hover label.sk-toggleable__label {background-color: #d4ebff;}#sk-container-id-1 div.sk-serial::before {content: \"\";position: absolute;border-left: 1px solid gray;box-sizing: border-box;top: 0;bottom: 0;left: 50%;z-index: 0;}#sk-container-id-1 div.sk-serial {display: flex;flex-direction: column;align-items: center;background-color: white;padding-right: 0.2em;padding-left: 0.2em;position: relative;}#sk-container-id-1 div.sk-item {position: relative;z-index: 1;}#sk-container-id-1 div.sk-parallel {display: flex;align-items: stretch;justify-content: center;background-color: white;position: relative;}#sk-container-id-1 div.sk-item::before, #sk-container-id-1 div.sk-parallel-item::before {content: \"\";position: absolute;border-left: 1px solid gray;box-sizing: border-box;top: 0;bottom: 0;left: 50%;z-index: -1;}#sk-container-id-1 div.sk-parallel-item {display: flex;flex-direction: column;z-index: 1;position: relative;background-color: white;}#sk-container-id-1 div.sk-parallel-item:first-child::after {align-self: flex-end;width: 50%;}#sk-container-id-1 div.sk-parallel-item:last-child::after {align-self: flex-start;width: 50%;}#sk-container-id-1 div.sk-parallel-item:only-child::after {width: 0;}#sk-container-id-1 div.sk-dashed-wrapped {border: 1px dashed gray;margin: 0 0.4em 0.5em 0.4em;box-sizing: border-box;padding-bottom: 0.4em;background-color: white;}#sk-container-id-1 div.sk-label label {font-family: monospace;font-weight: bold;display: inline-block;line-height: 1.2em;}#sk-container-id-1 div.sk-label-container {text-align: center;}#sk-container-id-1 div.sk-container {/* jupyter's `normalize.less` sets `[hidden] { display: none; }` but bootstrap.min.css set `[hidden] { display: none !important; }` so we also need the `!important` here to be able to override the default hidden behavior on the sphinx rendered scikit-learn.org. See: https://github.com/scikit-learn/scikit-learn/issues/21755 */display: inline-block !important;position: relative;}#sk-container-id-1 div.sk-text-repr-fallback {display: none;}</style><div id=\"sk-container-id-1\" class=\"sk-top-container\"><div class=\"sk-text-repr-fallback\"><pre>AdaBoostClassifier(n_estimators=100)</pre><b>In a Jupyter environment, please rerun this cell to show the HTML representation or trust the notebook. <br />On GitHub, the HTML representation is unable to render, please try loading this page with nbviewer.org.</b></div><div class=\"sk-container\" hidden><div class=\"sk-item\"><div class=\"sk-estimator sk-toggleable\"><input class=\"sk-toggleable__control sk-hidden--visually\" id=\"sk-estimator-id-1\" type=\"checkbox\" checked><label for=\"sk-estimator-id-1\" class=\"sk-toggleable__label sk-toggleable__label-arrow\">AdaBoostClassifier</label><div class=\"sk-toggleable__content\"><pre>AdaBoostClassifier(n_estimators=100)</pre></div></div></div></div></div>"
      ],
      "text/plain": [
       "AdaBoostClassifier(n_estimators=100)"
      ]
     },
     "execution_count": 9,
     "metadata": {},
     "output_type": "execute_result"
    }
   ],
   "source": [
    "# Model Training\n",
    "\n",
    "decision_tree.fit(X_train, y_train)\n",
    "random_forest.fit(X_train, y_train)\n",
    "ada_boost.fit(X_train, y_train)"
   ]
  },
  {
   "cell_type": "code",
   "execution_count": 10,
   "id": "ce333e12",
   "metadata": {
    "execution": {
     "iopub.execute_input": "2024-03-20T14:59:06.320442Z",
     "iopub.status.busy": "2024-03-20T14:59:06.319734Z",
     "iopub.status.idle": "2024-03-20T14:59:06.351699Z",
     "shell.execute_reply": "2024-03-20T14:59:06.350418Z"
    },
    "papermill": {
     "duration": 0.043466,
     "end_time": "2024-03-20T14:59:06.354670",
     "exception": false,
     "start_time": "2024-03-20T14:59:06.311204",
     "status": "completed"
    },
    "tags": []
   },
   "outputs": [],
   "source": [
    "# Making Predictions on the test data\n",
    "\n",
    "y_pred_dt = decision_tree.predict(X_test)\n",
    "y_pred_rf = random_forest.predict(X_test)\n",
    "y_pred_ab = ada_boost.predict(X_test)"
   ]
  },
  {
   "cell_type": "code",
   "execution_count": 11,
   "id": "8b7ad9f7",
   "metadata": {
    "execution": {
     "iopub.execute_input": "2024-03-20T14:59:06.371961Z",
     "iopub.status.busy": "2024-03-20T14:59:06.369902Z",
     "iopub.status.idle": "2024-03-20T14:59:06.380875Z",
     "shell.execute_reply": "2024-03-20T14:59:06.379998Z"
    },
    "papermill": {
     "duration": 0.021697,
     "end_time": "2024-03-20T14:59:06.383308",
     "exception": false,
     "start_time": "2024-03-20T14:59:06.361611",
     "status": "completed"
    },
    "tags": []
   },
   "outputs": [],
   "source": [
    "# Calculating accuracy for the algorithms\n",
    "\n",
    "accuracy_dt = accuracy_score(y_test, y_pred_dt)\n",
    "accuracy_rf = accuracy_score(y_test, y_pred_rf)\n",
    "accuracy_ab = accuracy_score(y_test, y_pred_ab)"
   ]
  },
  {
   "cell_type": "code",
   "execution_count": 12,
   "id": "7a4e6116",
   "metadata": {
    "execution": {
     "iopub.execute_input": "2024-03-20T14:59:06.399484Z",
     "iopub.status.busy": "2024-03-20T14:59:06.398834Z",
     "iopub.status.idle": "2024-03-20T14:59:06.404758Z",
     "shell.execute_reply": "2024-03-20T14:59:06.403943Z"
    },
    "papermill": {
     "duration": 0.016544,
     "end_time": "2024-03-20T14:59:06.406947",
     "exception": false,
     "start_time": "2024-03-20T14:59:06.390403",
     "status": "completed"
    },
    "tags": []
   },
   "outputs": [
    {
     "name": "stdout",
     "output_type": "stream",
     "text": [
      "Accuracy score for Decision Tree Classifier is: 94.74%\n",
      "Accuracy score for Random Forest Classifier is: 96.49%\n",
      "Accuracy score for Ada Boost Classifier is: 97.37% \n"
     ]
    }
   ],
   "source": [
    "# Displaying the accuracy for the algorithms\n",
    "\n",
    "print(\"Accuracy score for Decision Tree Classifier is: {:.2f}%\".format(accuracy_dt*100))\n",
    "print(\"Accuracy score for Random Forest Classifier is: {:.2f}%\".format(accuracy_rf*100))\n",
    "print(\"Accuracy score for Ada Boost Classifier is: {:.2f}% \".format(accuracy_ab*100))"
   ]
  },
  {
   "cell_type": "code",
   "execution_count": 13,
   "id": "631dc66f",
   "metadata": {
    "execution": {
     "iopub.execute_input": "2024-03-20T14:59:06.423354Z",
     "iopub.status.busy": "2024-03-20T14:59:06.422839Z",
     "iopub.status.idle": "2024-03-20T14:59:06.434225Z",
     "shell.execute_reply": "2024-03-20T14:59:06.432901Z"
    },
    "papermill": {
     "duration": 0.030348,
     "end_time": "2024-03-20T14:59:06.444673",
     "exception": false,
     "start_time": "2024-03-20T14:59:06.414325",
     "status": "completed"
    },
    "tags": []
   },
   "outputs": [],
   "source": [
    "# Creating confusion matrices for the algorithms\n",
    "\n",
    "cm_dt = confusion_matrix(y_test,y_pred_dt)\n",
    "cm_rf = confusion_matrix(y_test, y_pred_rf)\n",
    "cm_ab = confusion_matrix(y_test, y_pred_ab)"
   ]
  },
  {
   "cell_type": "code",
   "execution_count": 14,
   "id": "a8cb7686",
   "metadata": {
    "execution": {
     "iopub.execute_input": "2024-03-20T14:59:06.461038Z",
     "iopub.status.busy": "2024-03-20T14:59:06.460208Z",
     "iopub.status.idle": "2024-03-20T14:59:07.077860Z",
     "shell.execute_reply": "2024-03-20T14:59:07.076414Z"
    },
    "papermill": {
     "duration": 0.628781,
     "end_time": "2024-03-20T14:59:07.080580",
     "exception": false,
     "start_time": "2024-03-20T14:59:06.451799",
     "status": "completed"
    },
    "tags": []
   },
   "outputs": [
    {
     "data": {
      "image/png": "[encoded data removed]",
      "text/plain": [
       "<Figure size 1500x500 with 3 Axes>"
      ]
     },
     "metadata": {},
     "output_type": "display_data"
    }
   ],
   "source": [
    "# Visualsing the Confusion Matrices\n",
    "\n",
    "plt.figure(figsize=(15,5))\n",
    "\n",
    "plt.subplot(1,3,1)\n",
    "sns.heatmap(cm_dt, annot=True, cbar=False,fmt='d',cmap='Greens')\n",
    "plt.title(\"Confusion Matrix for Decision Tree\")\n",
    "plt.xlabel(\"Predicted\")\n",
    "plt.ylabel(\"True\")\n",
    "\n",
    "plt.subplot(1,3,2)\n",
    "sns.heatmap(cm_rf, annot=True, cbar=False, fmt='d', cmap='Blues')\n",
    "plt.title(\"Confusion Matrix for Random Forest\")\n",
    "plt.xlabel(\"Predicted\")\n",
    "plt.ylabel(\"True\")\n",
    "\n",
    "plt.subplot(1,3,3)\n",
    "sns.heatmap(cm_ab, annot=True, cbar=False, cmap=\"Oranges\")\n",
    "plt.title(\"Confusion Matrix for Ada Boost Classifier\")\n",
    "plt.xlabel('Predicted')\n",
    "plt.ylabel(\"True\")\n",
    "\n",
    "plt.tight_layout()\n",
    "plt.show()"
   ]
  },
  {
   "cell_type": "markdown",
   "id": "90c36026",
   "metadata": {
    "papermill": {
     "duration": 0.007419,
     "end_time": "2024-03-20T14:59:07.097350",
     "exception": false,
     "start_time": "2024-03-20T14:59:07.089931",
     "status": "completed"
    },
    "tags": []
   },
   "source": [
    "Above confusion matrices show that AdaBoost Classifier has the best classification abilities here but the difference between Random Fores and AdaBoost is not significant. Decision Tree algorithm perfomred slightly poor when compared with Ensemble approaches like Random Forest and AdaBoost as reflected in the accuracy and Confusion Matrices."
   ]
  }
 ],
 "metadata": {
  "kaggle": {
   "accelerator": "none",
   "dataSources": [],
   "dockerImageVersionId": 30664,
   "isGpuEnabled": false,
   "isInternetEnabled": true,
   "language": "python",
   "sourceType": "notebook"
  },
  "kernelspec": {
   "display_name": "Python 3",
   "language": "python",
   "name": "python3"
  },
  "language_info": {
   "codemirror_mode": {
    "name": "ipython",
    "version": 3
   },
   "file_extension": ".py",
   "mimetype": "text/x-python",
   "name": "python",
   "nbconvert_exporter": "python",
   "pygments_lexer": "ipython3",
   "version": "3.10.13"
  },
  "papermill": {
   "default_parameters": {},
   "duration": 9.120561,
   "end_time": "2024-03-20T14:59:07.829305",
   "environment_variables": {},
   "exception": null,
   "input_path": "__notebook__.ipynb",
   "output_path": "__notebook__.ipynb",
   "parameters": {},
   "start_time": "2024-03-20T14:58:58.708744",
   "version": "2.5.0"
  }
 },
 "nbformat": 4,
 "nbformat_minor": 5
}
