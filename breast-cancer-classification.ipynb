{
 "cells": [
  {
   "cell_type": "code",
   "execution_count": 1,
   "id": "aa7d58fa",
   "metadata": {
    "_cell_guid": "b0d6e650-dd24-49a6-ab85-0731a01d3e58",
    "_uuid": "6c87a58b-e924-4c42-a573-397ef26e6cc3",
    "collapsed": false,
    "execution": {
     "iopub.execute_input": "2024-03-19T18:07:36.837376Z",
     "iopub.status.busy": "2024-03-19T18:07:36.836594Z",
     "iopub.status.idle": "2024-03-19T18:07:40.534105Z",
     "shell.execute_reply": "2024-03-19T18:07:40.532896Z"
    },
    "jupyter": {
     "outputs_hidden": false
    },
    "papermill": {
     "duration": 3.709331,
     "end_time": "2024-03-19T18:07:40.537107",
     "exception": false,
     "start_time": "2024-03-19T18:07:36.827776",
     "status": "completed"
    },
    "tags": []
   },
   "outputs": [],
   "source": [
    "import pandas as pd\n",
    "import matplotlib.pyplot as plt\n",
    "import seaborn as sns\n",
    "from sklearn.datasets import load_breast_cancer\n",
    "from sklearn.model_selection import train_test_split\n",
    "from sklearn.tree import DecisionTreeClassifier\n",
    "from sklearn.ensemble import RandomForestClassifier, AdaBoostClassifier\n",
    "from sklearn.metrics import accuracy_score"
   ]
  },
  {
   "cell_type": "code",
   "execution_count": 2,
   "id": "0f965bca",
   "metadata": {
    "execution": {
     "iopub.execute_input": "2024-03-19T18:07:40.551151Z",
     "iopub.status.busy": "2024-03-19T18:07:40.550378Z",
     "iopub.status.idle": "2024-03-19T18:07:40.577052Z",
     "shell.execute_reply": "2024-03-19T18:07:40.575330Z"
    },
    "papermill": {
     "duration": 0.037564,
     "end_time": "2024-03-19T18:07:40.580776",
     "exception": false,
     "start_time": "2024-03-19T18:07:40.543212",
     "status": "completed"
    },
    "tags": []
   },
   "outputs": [],
   "source": [
    "data= load_breast_cancer()\n",
    "X= data.data\n",
    "y= data.target\n",
    "feature_names= data.feature_names"
   ]
  },
  {
   "cell_type": "code",
   "execution_count": 3,
   "id": "687964b5",
   "metadata": {
    "execution": {
     "iopub.execute_input": "2024-03-19T18:07:40.594073Z",
     "iopub.status.busy": "2024-03-19T18:07:40.593268Z",
     "iopub.status.idle": "2024-03-19T18:07:40.606586Z",
     "shell.execute_reply": "2024-03-19T18:07:40.605556Z"
    },
    "papermill": {
     "duration": 0.023274,
     "end_time": "2024-03-19T18:07:40.609463",
     "exception": false,
     "start_time": "2024-03-19T18:07:40.586189",
     "status": "completed"
    },
    "tags": []
   },
   "outputs": [],
   "source": [
    "df=pd.DataFrame(X, columns = feature_names)\n",
    "df['target']=y"
   ]
  },
  {
   "cell_type": "code",
   "execution_count": 4,
   "id": "cd2bb82d",
   "metadata": {
    "execution": {
     "iopub.execute_input": "2024-03-19T18:07:40.623538Z",
     "iopub.status.busy": "2024-03-19T18:07:40.622713Z",
     "iopub.status.idle": "2024-03-19T18:07:40.630278Z",
     "shell.execute_reply": "2024-03-19T18:07:40.629411Z"
    },
    "papermill": {
     "duration": 0.017973,
     "end_time": "2024-03-19T18:07:40.632696",
     "exception": false,
     "start_time": "2024-03-19T18:07:40.614723",
     "status": "completed"
    },
    "tags": []
   },
   "outputs": [
    {
     "data": {
      "text/plain": [
       "(569, 31)"
      ]
     },
     "execution_count": 4,
     "metadata": {},
     "output_type": "execute_result"
    }
   ],
   "source": [
    "df.shape"
   ]
  },
  {
   "cell_type": "code",
   "execution_count": 5,
   "id": "ab4d15b2",
   "metadata": {
    "execution": {
     "iopub.execute_input": "2024-03-19T18:07:40.646654Z",
     "iopub.status.busy": "2024-03-19T18:07:40.645779Z",
     "iopub.status.idle": "2024-03-19T18:07:40.667682Z",
     "shell.execute_reply": "2024-03-19T18:07:40.666332Z"
    },
    "papermill": {
     "duration": 0.032589,
     "end_time": "2024-03-19T18:07:40.670791",
     "exception": false,
     "start_time": "2024-03-19T18:07:40.638202",
     "status": "completed"
    },
    "tags": []
   },
   "outputs": [
    {
     "data": {
      "text/plain": [
       "target\n",
       "1    357\n",
       "0    212\n",
       "Name: count, dtype: int64"
      ]
     },
     "execution_count": 5,
     "metadata": {},
     "output_type": "execute_result"
    }
   ],
   "source": [
    "df['target'].value_counts()"
   ]
  },
  {
   "cell_type": "code",
   "execution_count": 6,
   "id": "fa052a06",
   "metadata": {
    "execution": {
     "iopub.execute_input": "2024-03-19T18:07:40.684595Z",
     "iopub.status.busy": "2024-03-19T18:07:40.684074Z",
     "iopub.status.idle": "2024-03-19T18:07:40.696565Z",
     "shell.execute_reply": "2024-03-19T18:07:40.695068Z"
    },
    "papermill": {
     "duration": 0.022532,
     "end_time": "2024-03-19T18:07:40.699148",
     "exception": false,
     "start_time": "2024-03-19T18:07:40.676616",
     "status": "completed"
    },
    "tags": []
   },
   "outputs": [
    {
     "data": {
      "text/plain": [
       "mean radius                0\n",
       "mean texture               0\n",
       "mean perimeter             0\n",
       "mean area                  0\n",
       "mean smoothness            0\n",
       "mean compactness           0\n",
       "mean concavity             0\n",
       "mean concave points        0\n",
       "mean symmetry              0\n",
       "mean fractal dimension     0\n",
       "radius error               0\n",
       "texture error              0\n",
       "perimeter error            0\n",
       "area error                 0\n",
       "smoothness error           0\n",
       "compactness error          0\n",
       "concavity error            0\n",
       "concave points error       0\n",
       "symmetry error             0\n",
       "fractal dimension error    0\n",
       "worst radius               0\n",
       "worst texture              0\n",
       "worst perimeter            0\n",
       "worst area                 0\n",
       "worst smoothness           0\n",
       "worst compactness          0\n",
       "worst concavity            0\n",
       "worst concave points       0\n",
       "worst symmetry             0\n",
       "worst fractal dimension    0\n",
       "target                     0\n",
       "dtype: int64"
      ]
     },
     "execution_count": 6,
     "metadata": {},
     "output_type": "execute_result"
    }
   ],
   "source": [
    "df.isnull().sum()"
   ]
  },
  {
   "cell_type": "code",
   "execution_count": 7,
   "id": "ef209f3e",
   "metadata": {
    "execution": {
     "iopub.execute_input": "2024-03-19T18:07:40.714154Z",
     "iopub.status.busy": "2024-03-19T18:07:40.712922Z",
     "iopub.status.idle": "2024-03-19T18:07:40.722956Z",
     "shell.execute_reply": "2024-03-19T18:07:40.721549Z"
    },
    "papermill": {
     "duration": 0.020646,
     "end_time": "2024-03-19T18:07:40.725926",
     "exception": false,
     "start_time": "2024-03-19T18:07:40.705280",
     "status": "completed"
    },
    "tags": []
   },
   "outputs": [],
   "source": [
    "X_train, X_test, y_train, y_test = train_test_split (X,y, test_size =0.2, random_state=42)"
   ]
  },
  {
   "cell_type": "code",
   "execution_count": 8,
   "id": "8e35ad70",
   "metadata": {
    "execution": {
     "iopub.execute_input": "2024-03-19T18:07:40.739849Z",
     "iopub.status.busy": "2024-03-19T18:07:40.739288Z",
     "iopub.status.idle": "2024-03-19T18:07:40.745594Z",
     "shell.execute_reply": "2024-03-19T18:07:40.744109Z"
    },
    "papermill": {
     "duration": 0.016877,
     "end_time": "2024-03-19T18:07:40.748556",
     "exception": false,
     "start_time": "2024-03-19T18:07:40.731679",
     "status": "completed"
    },
    "tags": []
   },
   "outputs": [],
   "source": [
    "# Initialisng the Model\n",
    "decision_tree = DecisionTreeClassifier()\n",
    "random_forest = RandomForestClassifier(n_estimators=100)\n",
    "ada_boost = AdaBoostClassifier(n_estimators=100)"
   ]
  },
  {
   "cell_type": "code",
   "execution_count": 9,
   "id": "bf13ec77",
   "metadata": {
    "execution": {
     "iopub.execute_input": "2024-03-19T18:07:40.762494Z",
     "iopub.status.busy": "2024-03-19T18:07:40.762032Z",
     "iopub.status.idle": "2024-03-19T18:07:41.506489Z",
     "shell.execute_reply": "2024-03-19T18:07:41.504945Z"
    },
    "papermill": {
     "duration": 0.755321,
     "end_time": "2024-03-19T18:07:41.509734",
     "exception": false,
     "start_time": "2024-03-19T18:07:40.754413",
     "status": "completed"
    },
    "tags": []
   },
   "outputs": [
    {
     "data": {
      "text/html": [
       "<style>#sk-container-id-1 {color: black;background-color: white;}#sk-container-id-1 pre{padding: 0;}#sk-container-id-1 div.sk-toggleable {background-color: white;}#sk-container-id-1 label.sk-toggleable__label {cursor: pointer;display: block;width: 100%;margin-bottom: 0;padding: 0.3em;box-sizing: border-box;text-align: center;}#sk-container-id-1 label.sk-toggleable__label-arrow:before {content: \"▸\";float: left;margin-right: 0.25em;color: #696969;}#sk-container-id-1 label.sk-toggleable__label-arrow:hover:before {color: black;}#sk-container-id-1 div.sk-estimator:hover label.sk-toggleable__label-arrow:before {color: black;}#sk-container-id-1 div.sk-toggleable__content {max-height: 0;max-width: 0;overflow: hidden;text-align: left;background-color: #f0f8ff;}#sk-container-id-1 div.sk-toggleable__content pre {margin: 0.2em;color: black;border-radius: 0.25em;background-color: #f0f8ff;}#sk-container-id-1 input.sk-toggleable__control:checked~div.sk-toggleable__content {max-height: 200px;max-width: 100%;overflow: auto;}#sk-container-id-1 input.sk-toggleable__control:checked~label.sk-toggleable__label-arrow:before {content: \"▾\";}#sk-container-id-1 div.sk-estimator input.sk-toggleable__control:checked~label.sk-toggleable__label {background-color: #d4ebff;}#sk-container-id-1 div.sk-label input.sk-toggleable__control:checked~label.sk-toggleable__label {background-color: #d4ebff;}#sk-container-id-1 input.sk-hidden--visually {border: 0;clip: rect(1px 1px 1px 1px);clip: rect(1px, 1px, 1px, 1px);height: 1px;margin: -1px;overflow: hidden;padding: 0;position: absolute;width: 1px;}#sk-container-id-1 div.sk-estimator {font-family: monospace;background-color: #f0f8ff;border: 1px dotted black;border-radius: 0.25em;box-sizing: border-box;margin-bottom: 0.5em;}#sk-container-id-1 div.sk-estimator:hover {background-color: #d4ebff;}#sk-container-id-1 div.sk-parallel-item::after {content: \"\";width: 100%;border-bottom: 1px solid gray;flex-grow: 1;}#sk-container-id-1 div.sk-label:hover label.sk-toggleable__label {background-color: #d4ebff;}#sk-container-id-1 div.sk-serial::before {content: \"\";position: absolute;border-left: 1px solid gray;box-sizing: border-box;top: 0;bottom: 0;left: 50%;z-index: 0;}#sk-container-id-1 div.sk-serial {display: flex;flex-direction: column;align-items: center;background-color: white;padding-right: 0.2em;padding-left: 0.2em;position: relative;}#sk-container-id-1 div.sk-item {position: relative;z-index: 1;}#sk-container-id-1 div.sk-parallel {display: flex;align-items: stretch;justify-content: center;background-color: white;position: relative;}#sk-container-id-1 div.sk-item::before, #sk-container-id-1 div.sk-parallel-item::before {content: \"\";position: absolute;border-left: 1px solid gray;box-sizing: border-box;top: 0;bottom: 0;left: 50%;z-index: -1;}#sk-container-id-1 div.sk-parallel-item {display: flex;flex-direction: column;z-index: 1;position: relative;background-color: white;}#sk-container-id-1 div.sk-parallel-item:first-child::after {align-self: flex-end;width: 50%;}#sk-container-id-1 div.sk-parallel-item:last-child::after {align-self: flex-start;width: 50%;}#sk-container-id-1 div.sk-parallel-item:only-child::after {width: 0;}#sk-container-id-1 div.sk-dashed-wrapped {border: 1px dashed gray;margin: 0 0.4em 0.5em 0.4em;box-sizing: border-box;padding-bottom: 0.4em;background-color: white;}#sk-container-id-1 div.sk-label label {font-family: monospace;font-weight: bold;display: inline-block;line-height: 1.2em;}#sk-container-id-1 div.sk-label-container {text-align: center;}#sk-container-id-1 div.sk-container {/* jupyter's `normalize.less` sets `[hidden] { display: none; }` but bootstrap.min.css set `[hidden] { display: none !important; }` so we also need the `!important` here to be able to override the default hidden behavior on the sphinx rendered scikit-learn.org. See: https://github.com/scikit-learn/scikit-learn/issues/21755 */display: inline-block !important;position: relative;}#sk-container-id-1 div.sk-text-repr-fallback {display: none;}</style><div id=\"sk-container-id-1\" class=\"sk-top-container\"><div class=\"sk-text-repr-fallback\"><pre>AdaBoostClassifier(n_estimators=100)</pre><b>In a Jupyter environment, please rerun this cell to show the HTML representation or trust the notebook. <br />On GitHub, the HTML representation is unable to render, please try loading this page with nbviewer.org.</b></div><div class=\"sk-container\" hidden><div class=\"sk-item\"><div class=\"sk-estimator sk-toggleable\"><input class=\"sk-toggleable__control sk-hidden--visually\" id=\"sk-estimator-id-1\" type=\"checkbox\" checked><label for=\"sk-estimator-id-1\" class=\"sk-toggleable__label sk-toggleable__label-arrow\">AdaBoostClassifier</label><div class=\"sk-toggleable__content\"><pre>AdaBoostClassifier(n_estimators=100)</pre></div></div></div></div></div>"
      ],
      "text/plain": [
       "AdaBoostClassifier(n_estimators=100)"
      ]
     },
     "execution_count": 9,
     "metadata": {},
     "output_type": "execute_result"
    }
   ],
   "source": [
    "# Model Training\n",
    "decision_tree.fit(X_train, y_train)\n",
    "random_forest.fit(X_train, y_train)\n",
    "ada_boost.fit(X_train, y_train)"
   ]
  },
  {
   "cell_type": "code",
   "execution_count": 10,
   "id": "8a3ecf7b",
   "metadata": {
    "execution": {
     "iopub.execute_input": "2024-03-19T18:07:41.523937Z",
     "iopub.status.busy": "2024-03-19T18:07:41.523419Z",
     "iopub.status.idle": "2024-03-19T18:07:41.568859Z",
     "shell.execute_reply": "2024-03-19T18:07:41.567171Z"
    },
    "papermill": {
     "duration": 0.057163,
     "end_time": "2024-03-19T18:07:41.572974",
     "exception": false,
     "start_time": "2024-03-19T18:07:41.515811",
     "status": "completed"
    },
    "tags": []
   },
   "outputs": [],
   "source": [
    "# Making Predictions on the test data\n",
    "y_pred_dt = decision_tree.predict(X_test)\n",
    "y_pred_rf = random_forest.predict(X_test)\n",
    "y_pred_ab = ada_boost.predict(X_test)"
   ]
  },
  {
   "cell_type": "code",
   "execution_count": 11,
   "id": "d8beb554",
   "metadata": {
    "execution": {
     "iopub.execute_input": "2024-03-19T18:07:41.590909Z",
     "iopub.status.busy": "2024-03-19T18:07:41.590324Z",
     "iopub.status.idle": "2024-03-19T18:07:41.601130Z",
     "shell.execute_reply": "2024-03-19T18:07:41.598931Z"
    },
    "papermill": {
     "duration": 0.025676,
     "end_time": "2024-03-19T18:07:41.605337",
     "exception": false,
     "start_time": "2024-03-19T18:07:41.579661",
     "status": "completed"
    },
    "tags": []
   },
   "outputs": [],
   "source": [
    "# Calculating accuracy for the algorithms\n",
    "accuracy_dt = accuracy_score(y_test, y_pred_dt)\n",
    "accuracy_rf = accuracy_score(y_test, y_pred_rf)\n",
    "accuracy_ab = accuracy_score(y_test, y_pred_ab)"
   ]
  },
  {
   "cell_type": "code",
   "execution_count": 12,
   "id": "942ebf96",
   "metadata": {
    "execution": {
     "iopub.execute_input": "2024-03-19T18:07:41.624900Z",
     "iopub.status.busy": "2024-03-19T18:07:41.623225Z",
     "iopub.status.idle": "2024-03-19T18:07:41.631061Z",
     "shell.execute_reply": "2024-03-19T18:07:41.630067Z"
    },
    "papermill": {
     "duration": 0.019723,
     "end_time": "2024-03-19T18:07:41.634079",
     "exception": false,
     "start_time": "2024-03-19T18:07:41.614356",
     "status": "completed"
    },
    "tags": []
   },
   "outputs": [
    {
     "name": "stdout",
     "output_type": "stream",
     "text": [
      "Accuracy score for Decision Tree Classifier is: 93.86%\n",
      "Accuracy score for Random Forest Classifier is: 96.49%\n",
      "Accuracy score for Ada Boost Classifier is: 97.37% \n"
     ]
    }
   ],
   "source": [
    "# Displaying the accuracy for the algorithms\n",
    "print(\"Accuracy score for Decision Tree Classifier is: {:.2f}%\".format(accuracy_dt*100))\n",
    "print(\"Accuracy score for Random Forest Classifier is: {:.2f}%\".format(accuracy_rf*100))\n",
    "print(\"Accuracy score for Ada Boost Classifier is: {:.2f}% \".format(accuracy_ab*100))"
   ]
  },
  {
   "cell_type": "code",
   "execution_count": null,
   "id": "569123d8",
   "metadata": {
    "papermill": {
     "duration": 0.005947,
     "end_time": "2024-03-19T18:07:41.646198",
     "exception": false,
     "start_time": "2024-03-19T18:07:41.640251",
     "status": "completed"
    },
    "tags": []
   },
   "outputs": [],
   "source": []
  }
 ],
 "metadata": {
  "kaggle": {
   "accelerator": "none",
   "dataSources": [],
   "dockerImageVersionId": 30664,
   "isGpuEnabled": false,
   "isInternetEnabled": true,
   "language": "python",
   "sourceType": "notebook"
  },
  "kernelspec": {
   "display_name": "Python 3",
   "language": "python",
   "name": "python3"
  },
  "language_info": {
   "codemirror_mode": {
    "name": "ipython",
    "version": 3
   },
   "file_extension": ".py",
   "mimetype": "text/x-python",
   "name": "python",
   "nbconvert_exporter": "python",
   "pygments_lexer": "ipython3",
   "version": "3.10.13"
  },
  "papermill": {
   "default_parameters": {},
   "duration": 9.099158,
   "end_time": "2024-03-19T18:07:42.477861",
   "environment_variables": {},
   "exception": null,
   "input_path": "__notebook__.ipynb",
   "output_path": "__notebook__.ipynb",
   "parameters": {},
   "start_time": "2024-03-19T18:07:33.378703",
   "version": "2.5.0"
  }
 },
 "nbformat": 4,
 "nbformat_minor": 5
}
